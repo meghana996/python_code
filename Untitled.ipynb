{
 "cells": [
  {
   "cell_type": "code",
   "execution_count": 2,
   "metadata": {},
   "outputs": [
    {
     "name": "stdout",
     "output_type": "stream",
     "text": [
      "Input a operation Character : d\n",
      "The result for inp is :  3.5\n"
     ]
    }
   ],
   "source": [
    "def switch_func(value, x):\n",
    "    return {\n",
    "        'a': lambda x: x+122,\n",
    "        'b': lambda x: x*2,\n",
    "        'c': lambda x: x-123,\n",
    "        'd': lambda x: x/2\n",
    "    }.get(value)(x)\n",
    "\n",
    "inp = input('Input a operation Character : ')\n",
    "\n",
    "print('The result for inp is : ', switch_func(inp, 7))\n"
   ]
  },
  {
   "cell_type": "code",
   "execution_count": 3,
   "metadata": {},
   "outputs": [
    {
     "name": "stdout",
     "output_type": "stream",
     "text": [
      "Enter first number:2\n",
      "Enter second number:3\n",
      "Enter third number:5\n",
      "Sum of the given three numbers is:  10\n"
     ]
    }
   ],
   "source": [
    "def sum(x,y,z):\n",
    "    return x+y+z\n",
    "\n",
    "a= int(input(\"Enter first number:\"))\n",
    "b= int(input(\"Enter second number:\"))\n",
    "c= int(input(\"Enter third number:\"))\n",
    "\n",
    "print(\"Sum of the given three numbers is: \", sum(a,b,c))"
   ]
  },
  {
   "cell_type": "code",
   "execution_count": 4,
   "metadata": {},
   "outputs": [
    {
     "ename": "TypeError",
     "evalue": "sum() missing 2 required positional arguments: 'y' and 'z'",
     "output_type": "error",
     "traceback": [
      "\u001b[0;31m---------------------------------------------------------------------------\u001b[0m",
      "\u001b[0;31mTypeError\u001b[0m                                 Traceback (most recent call last)",
      "\u001b[0;32m<ipython-input-4-eb51a4273ce0>\u001b[0m in \u001b[0;36m<module>\u001b[0;34m()\u001b[0m\n\u001b[1;32m      2\u001b[0m \u001b[0mx\u001b[0m \u001b[0;34m=\u001b[0m \u001b[0;34m(\u001b[0m\u001b[0;36m5\u001b[0m\u001b[0;34m,\u001b[0m \u001b[0;36m6\u001b[0m\u001b[0;34m,\u001b[0m \u001b[0;36m7\u001b[0m\u001b[0;34m)\u001b[0m\u001b[0;34m\u001b[0m\u001b[0m\n\u001b[1;32m      3\u001b[0m \u001b[0my\u001b[0m \u001b[0;34m=\u001b[0m \u001b[0;34m(\u001b[0m\u001b[0;36m8\u001b[0m\u001b[0;34m,\u001b[0m \u001b[0;36m9\u001b[0m\u001b[0;34m,\u001b[0m \u001b[0;36m9\u001b[0m\u001b[0;34m)\u001b[0m\u001b[0;34m\u001b[0m\u001b[0m\n\u001b[0;32m----> 4\u001b[0;31m \u001b[0mdistance\u001b[0m \u001b[0;34m=\u001b[0m \u001b[0mmath\u001b[0m\u001b[0;34m.\u001b[0m\u001b[0msqrt\u001b[0m\u001b[0;34m(\u001b[0m\u001b[0msum\u001b[0m\u001b[0;34m(\u001b[0m\u001b[0;34m[\u001b[0m\u001b[0;34m(\u001b[0m\u001b[0ma\u001b[0m \u001b[0;34m-\u001b[0m \u001b[0mb\u001b[0m\u001b[0;34m)\u001b[0m \u001b[0;34m**\u001b[0m \u001b[0;36m2\u001b[0m \u001b[0;32mfor\u001b[0m \u001b[0ma\u001b[0m\u001b[0;34m,\u001b[0m \u001b[0mb\u001b[0m \u001b[0;32min\u001b[0m \u001b[0mzip\u001b[0m\u001b[0;34m(\u001b[0m\u001b[0mx\u001b[0m\u001b[0;34m,\u001b[0m \u001b[0my\u001b[0m\u001b[0;34m)\u001b[0m\u001b[0;34m]\u001b[0m\u001b[0;34m)\u001b[0m\u001b[0;34m)\u001b[0m\u001b[0;34m\u001b[0m\u001b[0m\n\u001b[0m\u001b[1;32m      5\u001b[0m \u001b[0mprint\u001b[0m\u001b[0;34m(\u001b[0m\u001b[0;34m\"Euclidean distance from x to y: \"\u001b[0m\u001b[0;34m,\u001b[0m\u001b[0mdistance\u001b[0m\u001b[0;34m)\u001b[0m\u001b[0;34m\u001b[0m\u001b[0m\n",
      "\u001b[0;31mTypeError\u001b[0m: sum() missing 2 required positional arguments: 'y' and 'z'"
     ]
    }
   ],
   "source": [
    "import math\n",
    "x = (5, 6, 7)\n",
    "y = (8, 9, 9)\n",
    "distance = math.sqrt(sum([(a - b) ** 2 for a, b in zip(x, y)]))\n",
    "print(\"Euclidean distance from x to y: \",distance)"
   ]
  },
  {
   "cell_type": "code",
   "execution_count": 6,
   "metadata": {},
   "outputs": [
    {
     "name": "stdout",
     "output_type": "stream",
     "text": [
      "MAHE\n",
      "\n"
     ]
    }
   ],
   "source": [
    "f=open('names.txt')\n",
    "lines=f.readlines()\n",
    "print (lines[5])\n",
    "#print (lines[1])\n",
    "#print (lines[2])\n",
    "#print (lines[3])\n",
    "#print (lines[4])\n",
    "#print (lines[5])"
   ]
  },
  {
   "cell_type": "code",
   "execution_count": 10,
   "metadata": {},
   "outputs": [],
   "source": [
    "appendMe = '\\nMAHE'\n",
    "\n",
    "appendFile = open('names', 'a')\n",
    "appendFile.write(appendMe)\n",
    "appendFile.close()"
   ]
  },
  {
   "cell_type": "code",
   "execution_count": null,
   "metadata": {},
   "outputs": [],
   "source": []
  },
  {
   "cell_type": "code",
   "execution_count": 9,
   "metadata": {},
   "outputs": [
    {
     "name": "stdout",
     "output_type": "stream",
     "text": [
      "4\n",
      "b\n",
      "d\n",
      "1\n",
      "4\n",
      "E\n",
      "C\n",
      "0\n",
      "2\n",
      "5\n",
      ",\n",
      "D\n",
      "e\n",
      "e\n",
      "p\n",
      "a\n",
      " \n",
      "K\n",
      "R\n",
      ",\n",
      " \n",
      "E\n",
      "&\n",
      "C\n",
      "E\n",
      "\n",
      "\n",
      "4\n",
      "B\n",
      "D\n",
      "1\n",
      "4\n",
      "E\n",
      "C\n",
      "0\n",
      "3\n",
      "9\n",
      ",\n",
      "M\n",
      "a\n",
      "n\n",
      "a\n",
      "s\n",
      "a\n",
      " \n",
      "M\n",
      "R\n",
      ",\n",
      " \n",
      "E\n",
      "&\n",
      "C\n",
      "E\n",
      "\n",
      "\n",
      "4\n",
      "J\n",
      "D\n",
      "1\n",
      "4\n",
      "E\n",
      "C\n",
      "0\n",
      "2\n",
      "4\n",
      ",\n",
      "M\n",
      "e\n",
      "g\n",
      "h\n",
      "a\n",
      "n\n",
      "a\n",
      " \n",
      "M\n",
      "C\n",
      ",\n",
      "E\n",
      "&\n",
      "C\n",
      "E\n",
      "\n",
      "\n",
      "4\n",
      "B\n",
      "D\n",
      "1\n",
      "4\n",
      "E\n",
      "C\n",
      "0\n",
      "5\n",
      "1\n",
      ",\n",
      "N\n",
      "i\n",
      "s\n",
      "c\n",
      "h\n",
      "i\n",
      "t\n",
      "h\n",
      "a\n",
      " \n",
      "G\n",
      "P\n",
      ",\n",
      "E\n",
      "&\n",
      "C\n",
      "E\n",
      "\n",
      "\n",
      "4\n",
      "B\n",
      "D\n",
      "1\n",
      "4\n",
      "E\n",
      "C\n",
      "0\n",
      "4\n",
      "9\n",
      ",\n",
      "N\n",
      "i\n",
      "d\n",
      "h\n",
      "i\n",
      " \n",
      "N\n",
      "i\n",
      "s\n",
      "h\n",
      "a\n",
      "n\n",
      "i\n",
      "m\n",
      "a\n",
      "t\n",
      "h\n",
      ",\n",
      " \n",
      "E\n",
      "&\n",
      "C\n",
      "E\n",
      "\n",
      "\n",
      "4\n",
      "B\n",
      "D\n",
      "1\n",
      "4\n",
      "E\n",
      "C\n",
      "0\n",
      "8\n",
      "1\n",
      ",\n",
      "S\n",
      "u\n",
      "m\n",
      "a\n",
      ",\n",
      "E\n",
      "&\n",
      "C\n",
      "E\n",
      "\n",
      "\n",
      "\n",
      "\n"
     ]
    }
   ],
   "source": [
    "with open(\"StudentFile.txt\") as fileobj:\n",
    "    for line in fileobj:  \n",
    "       for ch in line:\n",
    "           print (ch)\n"
   ]
  },
  {
   "cell_type": "code",
   "execution_count": 11,
   "metadata": {},
   "outputs": [
    {
     "name": "stdout",
     "output_type": "stream",
     "text": [
      "Enter the file to check: names.txt\n",
      "The number of Vowels is:  17\n"
     ]
    }
   ],
   "source": [
    "fileName = input(\"Enter the file to check: \").strip()\n",
    "\n",
    "infile = open(fileName, \"r\")\n",
    "\n",
    "vowels = set(\"AEIOUaeiou\")\n",
    "#cons = set(\"bcdfghjklmnpqrstvwxyzBCDFGHJKLMNPQRSTVWXYZ\")\n",
    "\n",
    "countV = 0\n",
    "#countC = 0\n",
    "for c in infile.read():\n",
    "    if c in vowels:\n",
    "        countV += 1\n",
    "    #elif c in cons:\n",
    "        #countC += 1\n",
    "print(\"The number of Vowels is: \",countV)\n",
    "#print(\"\\nThe number of consonants is: \",countC)"
   ]
  },
  {
   "cell_type": "code",
   "execution_count": null,
   "metadata": {},
   "outputs": [],
   "source": []
  }
 ],
 "metadata": {
  "kernelspec": {
   "display_name": "Python 3",
   "language": "python",
   "name": "python3"
  },
  "language_info": {
   "codemirror_mode": {
    "name": "ipython",
    "version": 3
   },
   "file_extension": ".py",
   "mimetype": "text/x-python",
   "name": "python",
   "nbconvert_exporter": "python",
   "pygments_lexer": "ipython3",
   "version": "3.6.5"
  }
 },
 "nbformat": 4,
 "nbformat_minor": 2
}
